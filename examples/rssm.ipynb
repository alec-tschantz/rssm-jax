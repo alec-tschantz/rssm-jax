{
 "cells": [
  {
   "cell_type": "code",
   "execution_count": 1,
   "metadata": {},
   "outputs": [],
   "source": [
    "import optax\n",
    "import equinox as eqx\n",
    "from jax import Array, numpy as jnp, random as jr\n",
    "\n",
    "from rssm import Model, State, rssm_loss"
   ]
  },
  {
   "cell_type": "code",
   "execution_count": 2,
   "metadata": {},
   "outputs": [],
   "source": [
    "@eqx.filter_jit\n",
    "def train_step(model, obs_seq, action_seq, optimizer, opt_state, key):\n",
    "    def loss_fn(model):\n",
    "        o_loss, kl_loss = rssm_loss(model, obs_seq, action_seq, key)\n",
    "        return o_loss + kl_loss\n",
    "\n",
    "    loss, grads = eqx.filter_value_and_grad(loss_fn)(model)\n",
    "    updates, opt_state = optimizer.update(grads, opt_state, model)\n",
    "    model = eqx.apply_updates(model, updates)\n",
    "    return model, opt_state, loss\n",
    "\n",
    "\n",
    "def dataset(key: jr.PRNGKey, T: int, B: int, obs_dim: int, action_dim: int):\n",
    "    key_obs, key_act = jr.split(key, 2)\n",
    "    obs_seq = jr.normal(key_obs, (B, T, obs_dim))\n",
    "    action_seq = jr.normal(key_act, (B, T, action_dim))\n",
    "    return obs_seq, action_seq"
   ]
  },
  {
   "cell_type": "code",
   "execution_count": null,
   "metadata": {},
   "outputs": [
    {
     "name": "stdout",
     "output_type": "stream",
     "text": [
      "0: 9.42690\n",
      "100: 7.44335\n",
      "200: 6.57504\n",
      "300: 5.15820\n",
      "400: 3.34989\n",
      "500: 2.03363\n",
      "600: 1.33689\n",
      "700: 0.99205\n",
      "800: 0.86378\n",
      "900: 0.69207\n",
      "1000: 0.63396\n",
      "1100: 0.56418\n",
      "1200: 0.52629\n",
      "1300: 0.48196\n",
      "1400: 0.54422\n",
      "1500: 0.43645\n",
      "1600: 0.48892\n",
      "1700: 0.38476\n",
      "1800: 0.41599\n",
      "1900: 0.38261\n"
     ]
    }
   ],
   "source": [
    "epochs = 2000\n",
    "T, B = 20, 16\n",
    "obs_size, action_size = 8, 1\n",
    "stoch_size, deter_size, embed_size, mlp_hidden_size = 30, 200, 200, 200\n",
    "\n",
    "key = jr.PRNGKey(0)\n",
    "\n",
    "key, subkey = jr.split(key)\n",
    "obs_seq, action_seq = dataset(subkey, T, B, obs_size, action_size)\n",
    "\n",
    "key, subkey = jr.split(key)\n",
    "model = Model(\n",
    "    obs_size=obs_size,\n",
    "    action_size=action_size,\n",
    "    stoch_size=stoch_size,\n",
    "    deter_size=deter_size,\n",
    "    embed_size=embed_size,\n",
    "    mlp_hidden_size=mlp_hidden_size,\n",
    "    key=subkey,\n",
    ")\n",
    "\n",
    "optimizer = optax.adam(1e-3)\n",
    "opt_state = optimizer.init(eqx.filter(model, eqx.is_array))\n",
    "\n",
    "for epoch in range(epochs):\n",
    "    key, subkey = jr.split(key)\n",
    "    model, opt_state, loss = train_step(\n",
    "        model, obs_seq, action_seq, optimizer, opt_state, subkey\n",
    "    )\n",
    "    if epoch % 100 == 0:\n",
    "        print(f\"{epoch}: {loss:.5f}\")"
   ]
  }
 ],
 "metadata": {
  "kernelspec": {
   "display_name": "qwen",
   "language": "python",
   "name": "python3"
  },
  "language_info": {
   "codemirror_mode": {
    "name": "ipython",
    "version": 3
   },
   "file_extension": ".py",
   "mimetype": "text/x-python",
   "name": "python",
   "nbconvert_exporter": "python",
   "pygments_lexer": "ipython3",
   "version": "3.10.16"
  }
 },
 "nbformat": 4,
 "nbformat_minor": 2
}
